{
  "nbformat": 4,
  "nbformat_minor": 0,
  "metadata": {
    "colab": {
      "provenance": [],
      "gpuType": "T4",
      "authorship_tag": "ABX9TyNGDaqP31gTlO+A00k0Xnq9",
      "include_colab_link": true
    },
    "kernelspec": {
      "name": "python3",
      "display_name": "Python 3"
    },
    "language_info": {
      "name": "python"
    },
    "accelerator": "GPU"
  },
  "cells": [
    {
      "cell_type": "markdown",
      "metadata": {
        "id": "view-in-github",
        "colab_type": "text"
      },
      "source": [
        "<a href=\"https://colab.research.google.com/github/ujj-kum/Google-Colab-Notebooks/blob/main/CNN_Architectures.ipynb\" target=\"_parent\"><img src=\"https://colab.research.google.com/assets/colab-badge.svg\" alt=\"Open In Colab\"/></a>"
      ]
    },
    {
      "cell_type": "code",
      "execution_count": 7,
      "metadata": {
        "id": "-TvopvgaYDFY"
      },
      "outputs": [],
      "source": [
        "import keras\n",
        "from keras.datasets import mnist\n",
        "from keras.layers import Conv2D, MaxPooling2D, Dense, Dropout, Flatten\n",
        "from keras.models import Sequential"
      ]
    },
    {
      "cell_type": "code",
      "source": [
        "(X_train, y_train), (X_test, y_test) = mnist.load_data()\n",
        "\n",
        "X_train = X_train.reshape(X_train.shape[0], 28, 28, 1)\n",
        "X_test = X_test.reshape(X_test.shape[0], 28, 28, 1)\n",
        "\n",
        "X_train = X_train/255.0\n",
        "X_test = X_test/255.0"
      ],
      "metadata": {
        "id": "_xcZc1XGY966"
      },
      "execution_count": 6,
      "outputs": []
    },
    {
      "cell_type": "markdown",
      "source": [
        "# LeNet"
      ],
      "metadata": {
        "id": "QGfZmOhgbMGD"
      }
    },
    {
      "cell_type": "code",
      "source": [
        "model = Sequential()\n",
        "\n",
        "model.add(Conv2D(6, kernel_size=(5, 5), activation='relu', input_shape=(28, 28, 1)))\n",
        "model.add(MaxPooling2D(pool_size=(2, 2)))\n",
        "\n",
        "model.add(Conv2D(16, kernel_size=(5, 5), activation='relu'))\n",
        "model.add(MaxPooling2D(pool_size=(2, 2)))\n",
        "\n",
        "model.add(Flatten())\n",
        "model.add(Dense(120, activation='relu'))\n",
        "model.add(Dense(84, activation='relu'))\n",
        "model.add(Dense(10, activation='softmax'))"
      ],
      "metadata": {
        "id": "GCDavJrTZZV_"
      },
      "execution_count": 19,
      "outputs": []
    },
    {
      "cell_type": "code",
      "source": [
        "model.summary()"
      ],
      "metadata": {
        "colab": {
          "base_uri": "https://localhost:8080/"
        },
        "id": "3N1gSOJJbwm2",
        "outputId": "04033009-1fd6-4adf-d6bf-363a7a1a6cfc"
      },
      "execution_count": 20,
      "outputs": [
        {
          "output_type": "stream",
          "name": "stdout",
          "text": [
            "Model: \"sequential_5\"\n",
            "_________________________________________________________________\n",
            " Layer (type)                Output Shape              Param #   \n",
            "=================================================================\n",
            " conv2d_8 (Conv2D)           (None, 24, 24, 6)         156       \n",
            "                                                                 \n",
            " max_pooling2d_7 (MaxPoolin  (None, 12, 12, 6)         0         \n",
            " g2D)                                                            \n",
            "                                                                 \n",
            " conv2d_9 (Conv2D)           (None, 8, 8, 16)          2416      \n",
            "                                                                 \n",
            " max_pooling2d_8 (MaxPoolin  (None, 4, 4, 16)          0         \n",
            " g2D)                                                            \n",
            "                                                                 \n",
            " flatten_2 (Flatten)         (None, 256)               0         \n",
            "                                                                 \n",
            " dense_2 (Dense)             (None, 120)               30840     \n",
            "                                                                 \n",
            " dense_3 (Dense)             (None, 84)                10164     \n",
            "                                                                 \n",
            " dense_4 (Dense)             (None, 10)                850       \n",
            "                                                                 \n",
            "=================================================================\n",
            "Total params: 44426 (173.54 KB)\n",
            "Trainable params: 44426 (173.54 KB)\n",
            "Non-trainable params: 0 (0.00 Byte)\n",
            "_________________________________________________________________\n"
          ]
        }
      ]
    },
    {
      "cell_type": "code",
      "source": [
        "loss='sparse_categorical_crossentropy'\n",
        "optimizer='adam'\n",
        "metrics=['accuracy']\n",
        "model.compile(loss=loss, optimizer=optimizer, metrics=metrics)"
      ],
      "metadata": {
        "id": "AfdkTlHrbyM2"
      },
      "execution_count": 21,
      "outputs": []
    },
    {
      "cell_type": "code",
      "source": [
        "from keras.callbacks import ModelCheckpoint\n",
        "\n",
        "path=\"model.weights.best_13_02_24.hdf5\"\n",
        "\n",
        "checkpointer = ModelCheckpoint(filepath=path, verbose=1, save_best_only=True)\n",
        "\n",
        "hist = model.fit(X_train, y_train, batch_size=64, epochs=10,\n",
        "                 validation_data=(X_test, y_test),\n",
        "                 callbacks=[checkpointer],\n",
        "                 shuffle=True)"
      ],
      "metadata": {
        "colab": {
          "base_uri": "https://localhost:8080/"
        },
        "id": "DEjpaLELefbL",
        "outputId": "1f0bdc80-0f90-4a6d-e69b-43b907af1b7a"
      },
      "execution_count": 22,
      "outputs": [
        {
          "output_type": "stream",
          "name": "stdout",
          "text": [
            "Epoch 1/10\n",
            "934/938 [============================>.] - ETA: 0s - loss: 0.2499 - accuracy: 0.9248\n",
            "Epoch 1: val_loss improved from inf to 0.07694, saving model to model.weights.best_13_02_24.hdf5\n",
            "938/938 [==============================] - 6s 5ms/step - loss: 0.2495 - accuracy: 0.9249 - val_loss: 0.0769 - val_accuracy: 0.9759\n",
            "Epoch 2/10\n",
            "928/938 [============================>.] - ETA: 0s - loss: 0.0739 - accuracy: 0.9770\n",
            "Epoch 2: val_loss improved from 0.07694 to 0.05058, saving model to model.weights.best_13_02_24.hdf5\n",
            "938/938 [==============================] - 4s 4ms/step - loss: 0.0741 - accuracy: 0.9769 - val_loss: 0.0506 - val_accuracy: 0.9843\n",
            "Epoch 3/10\n",
            "926/938 [============================>.] - ETA: 0s - loss: 0.0539 - accuracy: 0.9830\n",
            "Epoch 3: val_loss improved from 0.05058 to 0.04595, saving model to model.weights.best_13_02_24.hdf5\n",
            "938/938 [==============================] - 4s 4ms/step - loss: 0.0539 - accuracy: 0.9830 - val_loss: 0.0460 - val_accuracy: 0.9860\n",
            "Epoch 4/10\n",
            "929/938 [============================>.] - ETA: 0s - loss: 0.0421 - accuracy: 0.9868\n",
            "Epoch 4: val_loss improved from 0.04595 to 0.04532, saving model to model.weights.best_13_02_24.hdf5\n",
            "938/938 [==============================] - 5s 5ms/step - loss: 0.0421 - accuracy: 0.9868 - val_loss: 0.0453 - val_accuracy: 0.9849\n",
            "Epoch 5/10\n",
            "938/938 [==============================] - ETA: 0s - loss: 0.0355 - accuracy: 0.9890\n",
            "Epoch 5: val_loss improved from 0.04532 to 0.03380, saving model to model.weights.best_13_02_24.hdf5\n",
            "938/938 [==============================] - 4s 4ms/step - loss: 0.0355 - accuracy: 0.9890 - val_loss: 0.0338 - val_accuracy: 0.9897\n",
            "Epoch 6/10\n",
            "932/938 [============================>.] - ETA: 0s - loss: 0.0298 - accuracy: 0.9906\n",
            "Epoch 6: val_loss improved from 0.03380 to 0.03295, saving model to model.weights.best_13_02_24.hdf5\n",
            "938/938 [==============================] - 4s 4ms/step - loss: 0.0298 - accuracy: 0.9906 - val_loss: 0.0329 - val_accuracy: 0.9891\n",
            "Epoch 7/10\n",
            "933/938 [============================>.] - ETA: 0s - loss: 0.0237 - accuracy: 0.9926\n",
            "Epoch 7: val_loss did not improve from 0.03295\n",
            "938/938 [==============================] - 4s 5ms/step - loss: 0.0237 - accuracy: 0.9926 - val_loss: 0.0357 - val_accuracy: 0.9898\n",
            "Epoch 8/10\n",
            "927/938 [============================>.] - ETA: 0s - loss: 0.0217 - accuracy: 0.9929\n",
            "Epoch 8: val_loss did not improve from 0.03295\n",
            "938/938 [==============================] - 4s 4ms/step - loss: 0.0221 - accuracy: 0.9928 - val_loss: 0.0396 - val_accuracy: 0.9877\n",
            "Epoch 9/10\n",
            "930/938 [============================>.] - ETA: 0s - loss: 0.0190 - accuracy: 0.9937\n",
            "Epoch 9: val_loss did not improve from 0.03295\n",
            "938/938 [==============================] - 4s 4ms/step - loss: 0.0192 - accuracy: 0.9937 - val_loss: 0.0390 - val_accuracy: 0.9890\n",
            "Epoch 10/10\n",
            "931/938 [============================>.] - ETA: 0s - loss: 0.0164 - accuracy: 0.9946\n",
            "Epoch 10: val_loss did not improve from 0.03295\n",
            "938/938 [==============================] - 5s 5ms/step - loss: 0.0163 - accuracy: 0.9947 - val_loss: 0.0381 - val_accuracy: 0.9890\n"
          ]
        }
      ]
    },
    {
      "cell_type": "code",
      "source": [
        "score = model.evaluate(X_test, y_test)\n",
        "print(\"Test Loss = \", score[0])\n",
        "print(\"Test Accuracy = \", score[1])"
      ],
      "metadata": {
        "colab": {
          "base_uri": "https://localhost:8080/"
        },
        "id": "i2GpQm0yelja",
        "outputId": "c5177c5d-ee20-49a6-f439-2ba9a6a3de02"
      },
      "execution_count": 24,
      "outputs": [
        {
          "output_type": "stream",
          "name": "stdout",
          "text": [
            "313/313 [==============================] - 1s 3ms/step - loss: 0.0381 - accuracy: 0.9890\n",
            "Test Loss =  0.038146354258060455\n",
            "Test Accuracy =  0.9890000224113464\n"
          ]
        }
      ]
    },
    {
      "cell_type": "code",
      "source": [],
      "metadata": {
        "id": "S_7wzR06fcz-"
      },
      "execution_count": null,
      "outputs": []
    }
  ]
}