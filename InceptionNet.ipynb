{
  "nbformat": 4,
  "nbformat_minor": 0,
  "metadata": {
    "colab": {
      "provenance": [],
      "gpuType": "T4",
      "authorship_tag": "ABX9TyMl2mCIUyAZk+PzvdQxR1uM",
      "include_colab_link": true
    },
    "kernelspec": {
      "name": "python3",
      "display_name": "Python 3"
    },
    "language_info": {
      "name": "python"
    },
    "accelerator": "GPU"
  },
  "cells": [
    {
      "cell_type": "markdown",
      "metadata": {
        "id": "view-in-github",
        "colab_type": "text"
      },
      "source": [
        "<a href=\"https://colab.research.google.com/github/ujj-kum/Google-Colab-Notebooks/blob/main/InceptionNet.ipynb\" target=\"_parent\"><img src=\"https://colab.research.google.com/assets/colab-badge.svg\" alt=\"Open In Colab\"/></a>"
      ]
    },
    {
      "cell_type": "code",
      "execution_count": 1,
      "metadata": {
        "id": "ZDsLHj4yfodG"
      },
      "outputs": [],
      "source": [
        "from tensorflow.keras.datasets import cifar10\n",
        "\n",
        "(X_train, y_train), (X_test, y_test) = cifar10.load_data()"
      ]
    },
    {
      "cell_type": "code",
      "source": [
        "X_train = X_train/255.0\n",
        "X_test = X_test/255.0"
      ],
      "metadata": {
        "id": "BqAPcW6pz1wN"
      },
      "execution_count": 2,
      "outputs": []
    },
    {
      "cell_type": "code",
      "source": [
        "import keras\n",
        "from keras.models import Sequential, Model\n",
        "from keras.layers import Add, Activation, Conv2D, MaxPooling2D, Flatten, Dense, Dropout, concatenate, AveragePooling2D, Input\n",
        "from keras.optimizers import Adam"
      ],
      "metadata": {
        "id": "3mUgLPDY0xQj"
      },
      "execution_count": 3,
      "outputs": []
    },
    {
      "cell_type": "code",
      "source": [
        "def inception_block(x, filters):\n",
        "    tower_1 = Conv2D(filters[0], kernel_size=(1, 1), padding='same', activation='relu')(x)\n",
        "    tower_1 = Conv2D(filters[1], kernel_size=(3, 3), padding='same', activation='relu')(tower_1)\n",
        "\n",
        "    tower_2 = Conv2D(filters[2], kernel_size=(1, 1), padding='same', activation='relu')(x)\n",
        "    tower_2 = Conv2D(filters[3], kernel_size=(5, 5), padding='same', activation='relu')(tower_2)\n",
        "\n",
        "    tower_3 = MaxPooling2D(pool_size=(3, 3), strides=(1, 1), padding='same')(x)\n",
        "    tower_3 = Conv2D(filters[1], kernel_size=(1, 1), padding='same', activation='relu')(tower_3)\n",
        "\n",
        "    output = concatenate([tower_1, tower_2, tower_3])\n",
        "    return output"
      ],
      "metadata": {
        "id": "1xIy66k_0zOW"
      },
      "execution_count": 7,
      "outputs": []
    },
    {
      "cell_type": "markdown",
      "source": [
        "### Build the Inception Model"
      ],
      "metadata": {
        "id": "YH42Hg4i2cMM"
      }
    },
    {
      "cell_type": "code",
      "source": [
        "def Inception(input_shape, num_classes=10):\n",
        "    inputs = Input(shape = input_shape)\n",
        "\n",
        "    x = Conv2D(64, kernel_size=(3, 3), padding='same', activation='relu')(inputs)\n",
        "    x = MaxPooling2D(pool_size=(2, 2))(x)\n",
        "\n",
        "    x = inception_block(x, filters=[64, 96, 128, 16, 32])\n",
        "    x = inception_block(x, filters=[128, 128, 192, 32, 96])\n",
        "    x = MaxPooling2D((2, 2))(x)\n",
        "\n",
        "    x = inception_block(x, filters=[192, 96, 208, 16, 48])\n",
        "    x = inception_block(x, filters=[160, 112, 224, 24, 64])\n",
        "    x = inception_block(x, filters=[128, 128, 256, 24, 64])\n",
        "    x = inception_block(x, filters=[112, 144, 288, 32, 64])\n",
        "    x = MaxPooling2D((2, 2))(x)\n",
        "\n",
        "    x = inception_block(x, filters=[256, 160, 320, 32, 128])\n",
        "    x = inception_block(x, filters=[256, 160, 320, 32, 128])\n",
        "    x = inception_block(x, filters=[384, 192, 384, 48, 128])\n",
        "\n",
        "    x = AveragePooling2D((4, 4))(x)\n",
        "    x = Flatten()(x)\n",
        "    outputs = Dense(num_classes, activation='softmax')(x)\n",
        "\n",
        "    model = Model(inputs=inputs, outputs=outputs)\n",
        "    return model"
      ],
      "metadata": {
        "id": "_bPKoQZc19Km"
      },
      "execution_count": 10,
      "outputs": []
    },
    {
      "cell_type": "code",
      "source": [
        "model = Inception(input_shape=(32, 32, 3), num_classes=10)\n",
        "\n",
        "loss='sparse_categorical_crossentropy'\n",
        "optimizer='adam'\n",
        "metrics=['accuracy']\n",
        "model.compile(loss=loss, optimizer=optimizer, metrics=metrics)\n",
        "\n",
        "hist = model.fit(X_train, y_train, batch_size=64, epochs=5,\n",
        "                 validation_data=(X_test, y_test),\n",
        "                 shuffle=True)"
      ],
      "metadata": {
        "colab": {
          "base_uri": "https://localhost:8080/"
        },
        "id": "JWDqgv4p44bu",
        "outputId": "b37c5a57-9145-48fc-e294-2d61fb474419"
      },
      "execution_count": 11,
      "outputs": [
        {
          "output_type": "stream",
          "name": "stdout",
          "text": [
            "Epoch 1/5\n",
            "782/782 [==============================] - 64s 52ms/step - loss: 2.0241 - accuracy: 0.2171 - val_loss: 1.6737 - val_accuracy: 0.3567\n",
            "Epoch 2/5\n",
            "782/782 [==============================] - 36s 46ms/step - loss: 1.4801 - accuracy: 0.4531 - val_loss: 1.3059 - val_accuracy: 0.5210\n",
            "Epoch 3/5\n",
            "782/782 [==============================] - 37s 48ms/step - loss: 1.2238 - accuracy: 0.5552 - val_loss: 1.1558 - val_accuracy: 0.5745\n",
            "Epoch 4/5\n",
            "782/782 [==============================] - 37s 47ms/step - loss: 1.0685 - accuracy: 0.6149 - val_loss: 1.0010 - val_accuracy: 0.6426\n",
            "Epoch 5/5\n",
            "782/782 [==============================] - 37s 48ms/step - loss: 0.9458 - accuracy: 0.6616 - val_loss: 0.9302 - val_accuracy: 0.6741\n"
          ]
        }
      ]
    }
  ]
}