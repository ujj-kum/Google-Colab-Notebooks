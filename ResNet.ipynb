{
  "nbformat": 4,
  "nbformat_minor": 0,
  "metadata": {
    "colab": {
      "provenance": [],
      "authorship_tag": "ABX9TyPNeSLA33q6mnsqUFoUgmNf",
      "include_colab_link": true
    },
    "kernelspec": {
      "name": "python3",
      "display_name": "Python 3"
    },
    "language_info": {
      "name": "python"
    },
    "accelerator": "TPU"
  },
  "cells": [
    {
      "cell_type": "markdown",
      "metadata": {
        "id": "view-in-github",
        "colab_type": "text"
      },
      "source": [
        "<a href=\"https://colab.research.google.com/github/ujj-kum/Google-Colab-Notebooks/blob/main/ResNet.ipynb\" target=\"_parent\"><img src=\"https://colab.research.google.com/assets/colab-badge.svg\" alt=\"Open In Colab\"/></a>"
      ]
    },
    {
      "cell_type": "code",
      "execution_count": 1,
      "metadata": {
        "id": "kSdXIUIx_KCp"
      },
      "outputs": [],
      "source": [
        "from tensorflow.keras.datasets import cifar10\n",
        "\n",
        "(X_train, y_train), (X_test, y_test) = cifar10.load_data()"
      ]
    },
    {
      "cell_type": "code",
      "source": [
        "print(\"Train data = \", len(X_train), type(X_train), X_train.shape)\n",
        "print(\"Test data = \", len(X_test))"
      ],
      "metadata": {
        "colab": {
          "base_uri": "https://localhost:8080/"
        },
        "id": "7B9x75vPGmio",
        "outputId": "96ea0c20-f914-4dd2-eb27-7088407eb354"
      },
      "execution_count": 2,
      "outputs": [
        {
          "output_type": "stream",
          "name": "stdout",
          "text": [
            "Train data =  50000 <class 'numpy.ndarray'> (50000, 32, 32, 3)\n",
            "Test data =  10000\n"
          ]
        }
      ]
    },
    {
      "cell_type": "code",
      "source": [
        "set(y_test.reshape(10000))"
      ],
      "metadata": {
        "colab": {
          "base_uri": "https://localhost:8080/"
        },
        "id": "-_7jIS-oPF2J",
        "outputId": "83279f02-b58d-4b27-f508-d2633066f323"
      },
      "execution_count": 3,
      "outputs": [
        {
          "output_type": "execute_result",
          "data": {
            "text/plain": [
              "{0, 1, 2, 3, 4, 5, 6, 7, 8, 9}"
            ]
          },
          "metadata": {},
          "execution_count": 3
        }
      ]
    },
    {
      "cell_type": "code",
      "source": [
        "X_train = X_train/255.0\n",
        "X_test = X_test/255.0"
      ],
      "metadata": {
        "id": "fcRPoWpTHf0w"
      },
      "execution_count": 4,
      "outputs": []
    },
    {
      "cell_type": "code",
      "source": [
        "import keras\n",
        "from keras.models import Sequential, Model\n",
        "from keras.layers import Add, Activation, Conv2D, MaxPooling2D, Flatten, Dense, Dropout, AveragePooling2D, BatchNormalization\n",
        "from keras.optimizers import Adam"
      ],
      "metadata": {
        "id": "SSirGygHHw17"
      },
      "execution_count": 5,
      "outputs": []
    },
    {
      "cell_type": "code",
      "source": [
        "def residual_block(x, filters, downsample=False):\n",
        "    strides = (2, 2) if downsample else (1, 1)\n",
        "\n",
        "    # 1st CNN Layer of the block\n",
        "    y = Conv2D(filters, kernel_size=(3, 3), strides=strides, padding='same')(x)\n",
        "    y = BatchNormalization()(y)\n",
        "    y = Activation('relu')(y)\n",
        "\n",
        "    # 2nd CNN layer of the block\n",
        "    y = Conv2D(filters, kernel_size=(3, 3), strides=(1, 1), padding='same')(y)\n",
        "    y = BatchNormalization()(y)\n",
        "\n",
        "    # Skip connection if downsample or number of filters change\n",
        "    # x output size changes, so we make x dowsample to the same size\n",
        "    if downsample:\n",
        "        # Not for feature Engineering, just size reduction\n",
        "        x = Conv2D(filters, kernel_size=(1, 1), strides=strides, padding='same')(x)\n",
        "\n",
        "    # Add skip connection\n",
        "    y = Add()([x, y])\n",
        "    y = Activation('relu')(y)\n",
        "    return y"
      ],
      "metadata": {
        "id": "Pdp5Qb1hH8gR"
      },
      "execution_count": 6,
      "outputs": []
    },
    {
      "cell_type": "code",
      "source": [
        "def resNet(input_shape, num_classes=10):\n",
        "    inputs = keras.Input(shape=input_shape)\n",
        "\n",
        "    # Initial Conv2D Layer\n",
        "    x = Conv2D(16, kernel_size=(3, 3), strides=(1, 1), padding='same')(inputs)\n",
        "    x = BatchNormalization()(x)\n",
        "    x = Activation('relu')(x)\n",
        "\n",
        "    # Residual Blocks\n",
        "    x = residual_block(x, filters=16)\n",
        "    x = residual_block(x, filters=16)\n",
        "    x = residual_block(x, filters=32, downsample=True)\n",
        "    x = residual_block(x, filters=32)\n",
        "    x = residual_block(x, filters=64, downsample=True)\n",
        "    x = residual_block(x ,filters=64)\n",
        "\n",
        "    x = AveragePooling2D(pool_size=(8, 8))(x)\n",
        "\n",
        "    x = Flatten()(x)\n",
        "\n",
        "    outputs=Dense(num_classes, activation='softmax')(x)\n",
        "\n",
        "    model = Model(inputs=inputs, outputs=outputs)\n",
        "    return model\n"
      ],
      "metadata": {
        "id": "W1HZdjMSOIeM"
      },
      "execution_count": 7,
      "outputs": []
    },
    {
      "cell_type": "markdown",
      "source": [
        "### Build and train the model"
      ],
      "metadata": {
        "id": "Dk78XOahUlkM"
      }
    },
    {
      "cell_type": "code",
      "source": [
        "model = resNet(input_shape=(32, 32, 3), num_classes=10)\n",
        "\n",
        "loss='sparse_categorical_crossentropy'\n",
        "optimizer='adam'\n",
        "metrics=['accuracy']\n",
        "model.compile(loss=loss, optimizer=optimizer, metrics=metrics)\n",
        "\n",
        "hist = model.fit(X_train, y_train, batch_size=64, epochs=1,\n",
        "                 validation_data=(X_test, y_test),\n",
        "                 shuffle=True)"
      ],
      "metadata": {
        "colab": {
          "base_uri": "https://localhost:8080/"
        },
        "id": "g2rE0Do5UYYx",
        "outputId": "397416f1-7dda-4386-ccff-87318528ec7e"
      },
      "execution_count": 8,
      "outputs": [
        {
          "output_type": "stream",
          "name": "stdout",
          "text": [
            "782/782 [==============================] - 414s 519ms/step - loss: 1.3065 - accuracy: 0.5277 - val_loss: 1.4472 - val_accuracy: 0.5143\n"
          ]
        }
      ]
    },
    {
      "cell_type": "code",
      "source": [],
      "metadata": {
        "id": "EyEC79XYU6R1"
      },
      "execution_count": 8,
      "outputs": []
    }
  ]
}